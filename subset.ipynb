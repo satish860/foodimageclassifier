{
 "cells": [
  {
   "cell_type": "code",
   "execution_count": 3,
   "id": "7633e558-8983-4eb1-bfa1-c65d9453cdfe",
   "metadata": {},
   "outputs": [],
   "source": [
    "import os,shutil,random"
   ]
  },
  {
   "cell_type": "code",
   "execution_count": 5,
   "id": "000fd073-c840-4504-86e4-4a5d36f6fbd8",
   "metadata": {},
   "outputs": [],
   "source": [
    "os.makedirs('food-101-subset')"
   ]
  },
  {
   "cell_type": "code",
   "execution_count": null,
   "id": "9f9468e8-ccf9-459b-9d83-4e888158c227",
   "metadata": {},
   "outputs": [],
   "source": [
    "os.makedirs('food-101-subset/images/')"
   ]
  },
  {
   "cell_type": "code",
   "execution_count": 12,
   "id": "9d6aae60-0b0a-440c-8d40-a509106c7ea7",
   "metadata": {},
   "outputs": [],
   "source": [
    "for root,dirs,files in os.walk('food-101/images'):\n",
    "    os.makedirs(root.replace('food-101','food-101-subset'))"
   ]
  },
  {
   "cell_type": "code",
   "execution_count": 33,
   "id": "96da61cc-f979-4fbc-ad99-6bd8be3b9d2b",
   "metadata": {},
   "outputs": [],
   "source": [
    "def movefilename(srcdir,destdir,filenames):\n",
    "    for filename in filenames:\n",
    "        srcfilename = os.path.join(srcdir,filename)\n",
    "        destfilename = os.path.join(destdir,filename)\n",
    "        shutil.copyfile(srcfilename,destfilename)"
   ]
  },
  {
   "cell_type": "code",
   "execution_count": 34,
   "id": "09de2367-d1b4-46cf-8325-badf8fa0f896",
   "metadata": {},
   "outputs": [],
   "source": [
    "for root,dirs,files in os.walk('food-101/images'):\n",
    "    subfolder = ''\n",
    "    if len(root.split('/')) == 3:\n",
    "        filenames = random.sample(os.listdir(root), 200)\n",
    "        movefilename(root,root.replace('food-101','food-101-subset'),filenames)"
   ]
  },
  {
   "cell_type": "code",
   "execution_count": 35,
   "id": "5b898856-1451-4d19-8777-a229715c9d38",
   "metadata": {},
   "outputs": [],
   "source": [
    "import torch\n",
    "from torchvision import datasets,models"
   ]
  },
  {
   "cell_type": "code",
   "execution_count": 36,
   "id": "d1b3b29b-8e03-433e-bd65-6faeabf9087d",
   "metadata": {},
   "outputs": [],
   "source": [
    "ds = datasets.ImageFolder('food-101-subset/images/')"
   ]
  },
  {
   "cell_type": "code",
   "execution_count": 40,
   "id": "0c7f423f-21d9-40c2-beba-882d7a507942",
   "metadata": {},
   "outputs": [
    {
     "data": {
      "text/plain": [
       "101"
      ]
     },
     "execution_count": 40,
     "metadata": {},
     "output_type": "execute_result"
    }
   ],
   "source": [
    "len(ds.classes)"
   ]
  },
  {
   "cell_type": "code",
   "execution_count": null,
   "id": "8774092b-9270-41c3-aa3f-7e76ff915b95",
   "metadata": {},
   "outputs": [],
   "source": []
  }
 ],
 "metadata": {
  "kernelspec": {
   "display_name": "Python 3",
   "language": "python",
   "name": "python3"
  },
  "language_info": {
   "codemirror_mode": {
    "name": "ipython",
    "version": 3
   },
   "file_extension": ".py",
   "mimetype": "text/x-python",
   "name": "python",
   "nbconvert_exporter": "python",
   "pygments_lexer": "ipython3",
   "version": "3.8.5"
  }
 },
 "nbformat": 4,
 "nbformat_minor": 5
}
